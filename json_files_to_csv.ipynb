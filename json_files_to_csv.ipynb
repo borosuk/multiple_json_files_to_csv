{
 "cells": [
  {
   "cell_type": "code",
   "execution_count": 2,
   "metadata": {},
   "outputs": [
    {
     "data": {
      "text/html": [
       "<div>\n",
       "<style scoped>\n",
       "    .dataframe tbody tr th:only-of-type {\n",
       "        vertical-align: middle;\n",
       "    }\n",
       "\n",
       "    .dataframe tbody tr th {\n",
       "        vertical-align: top;\n",
       "    }\n",
       "\n",
       "    .dataframe thead th {\n",
       "        text-align: right;\n",
       "    }\n",
       "</style>\n",
       "<table border=\"1\" class=\"dataframe\">\n",
       "  <thead>\n",
       "    <tr style=\"text-align: right;\">\n",
       "      <th></th>\n",
       "      <th>name</th>\n",
       "      <th>gender</th>\n",
       "      <th>company</th>\n",
       "      <th>email</th>\n",
       "    </tr>\n",
       "  </thead>\n",
       "  <tbody>\n",
       "    <tr>\n",
       "      <th>6385e3af9dbec7181231b382</th>\n",
       "      <td>Jodi Fry</td>\n",
       "      <td>female</td>\n",
       "      <td>TERAPRENE</td>\n",
       "      <td>jodifry@teraprene.com</td>\n",
       "    </tr>\n",
       "    <tr>\n",
       "      <th>6385e3afb7e3621d3c7ec628</th>\n",
       "      <td>Wiley Camacho</td>\n",
       "      <td>male</td>\n",
       "      <td>YOGASM</td>\n",
       "      <td>wileycamacho@yogasm.com</td>\n",
       "    </tr>\n",
       "    <tr>\n",
       "      <th>6385e3afa01317389fb80d2f</th>\n",
       "      <td>Key Salinas</td>\n",
       "      <td>male</td>\n",
       "      <td>EPLODE</td>\n",
       "      <td>keysalinas@eplode.com</td>\n",
       "    </tr>\n",
       "    <tr>\n",
       "      <th>6385e3afe81b783e77a6a25e</th>\n",
       "      <td>Kerry Everett</td>\n",
       "      <td>female</td>\n",
       "      <td>BLEEKO</td>\n",
       "      <td>kerryeverett@bleeko.com</td>\n",
       "    </tr>\n",
       "    <tr>\n",
       "      <th>6385e3af45d23bf6aeff9be5</th>\n",
       "      <td>Brenda Bryant</td>\n",
       "      <td>female</td>\n",
       "      <td>KEENGEN</td>\n",
       "      <td>brendabryant@keengen.com</td>\n",
       "    </tr>\n",
       "  </tbody>\n",
       "</table>\n",
       "</div>"
      ],
      "text/plain": [
       "                                   name  gender    company  \\\n",
       "6385e3af9dbec7181231b382       Jodi Fry  female  TERAPRENE   \n",
       "6385e3afb7e3621d3c7ec628  Wiley Camacho    male     YOGASM   \n",
       "6385e3afa01317389fb80d2f    Key Salinas    male     EPLODE   \n",
       "6385e3afe81b783e77a6a25e  Kerry Everett  female     BLEEKO   \n",
       "6385e3af45d23bf6aeff9be5  Brenda Bryant  female    KEENGEN   \n",
       "\n",
       "                                             email  \n",
       "6385e3af9dbec7181231b382     jodifry@teraprene.com  \n",
       "6385e3afb7e3621d3c7ec628   wileycamacho@yogasm.com  \n",
       "6385e3afa01317389fb80d2f     keysalinas@eplode.com  \n",
       "6385e3afe81b783e77a6a25e   kerryeverett@bleeko.com  \n",
       "6385e3af45d23bf6aeff9be5  brendabryant@keengen.com  "
      ]
     },
     "metadata": {},
     "output_type": "display_data"
    }
   ],
   "source": [
    "import os\n",
    "import json\n",
    "import pandas as pd\n",
    "\n",
    "# look in the current working directory + the subdirectory where the json files reside\n",
    "path_to_json = os.getcwd() + r'\\json_files'\n",
    "\n",
    "# read the given json file\n",
    "def get_json(file):\n",
    "    json_file = os.path.join(path_to_json, file)\n",
    "    with open(json_file, 'r') as f:\n",
    "        try:\n",
    "            return json.load(f)\n",
    "        except:\n",
    "            return None\n",
    "\n",
    "# get a list of json files\n",
    "json_files = [j for j in os.listdir(path_to_json) if j.lower().endswith(\".json\")]\n",
    "\n",
    "# get the data from the json files\n",
    "json_data = [get_json(j) for j in json_files if get_json(j) is not None]\n",
    "\n",
    "# create the dataframe\n",
    "df = pd.DataFrame(\n",
    "    [v for j in json_data for v in j.values()]\n",
    "    # optional index, the id in our case\n",
    "    , index = [k for j in json_data for k in j]\n",
    ")\n",
    "\n",
    "# save to csv\n",
    "df.to_csv(os.getcwd() + r'\\data.csv')\n",
    "\n",
    "display(df.head())\n"
   ]
  }
 ],
 "metadata": {
  "kernelspec": {
   "display_name": "Python 3.10.8 64-bit",
   "language": "python",
   "name": "python3"
  },
  "language_info": {
   "codemirror_mode": {
    "name": "ipython",
    "version": 3
   },
   "file_extension": ".py",
   "mimetype": "text/x-python",
   "name": "python",
   "nbconvert_exporter": "python",
   "pygments_lexer": "ipython3",
   "version": "3.10.8"
  },
  "orig_nbformat": 4,
  "vscode": {
   "interpreter": {
    "hash": "998a846d4508e6e2af297f038a49867ede22a1ca5e7e78e1f236b230b188368d"
   }
  }
 },
 "nbformat": 4,
 "nbformat_minor": 2
}
